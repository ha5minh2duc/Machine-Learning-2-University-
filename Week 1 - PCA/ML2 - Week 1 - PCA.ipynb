{
 "cells": [
  {
   "cell_type": "markdown",
   "metadata": {},
   "source": [
    "### 1. Create data and implement PCA algorithm then visualize each step like the below figure."
   ]
  },
  {
   "cell_type": "code",
   "execution_count": 124,
   "metadata": {},
   "outputs": [],
   "source": [
    "import numpy as np\n",
    "import pandas as pd\n",
    "import matplotlib.pyplot as plt\n",
    "import seaborn as sns\n",
    "import plotly.express as px"
   ]
  },
  {
   "cell_type": "markdown",
   "metadata": {},
   "source": [
    "##### Subtract the mean of each variable"
   ]
  },
  {
   "cell_type": "code",
   "execution_count": 96,
   "metadata": {},
   "outputs": [
    {
     "data": {
      "text/plain": [
       "array([[19, 41, 10, 19, 15],\n",
       "       [37, 24, 39, 27, 14],\n",
       "       [44, 42, 34, 35, 12],\n",
       "       [38, 47, 17, 41, 49],\n",
       "       [48, 18, 28, 28, 44],\n",
       "       [11, 28, 32, 38, 47],\n",
       "       [25, 46, 22, 35, 25],\n",
       "       [22, 41, 36, 41, 24],\n",
       "       [24, 26, 40, 38, 21],\n",
       "       [46, 15, 34, 33, 42],\n",
       "       [17, 32, 46, 34, 28],\n",
       "       [36, 16, 20, 41, 29],\n",
       "       [42, 44, 43, 40, 10],\n",
       "       [41, 32, 26, 13, 40],\n",
       "       [29, 46, 34, 20, 43],\n",
       "       [17, 26, 43, 43, 21],\n",
       "       [10, 23, 47, 43, 22],\n",
       "       [19, 19, 12, 13, 43],\n",
       "       [19, 40, 47, 11, 27],\n",
       "       [35, 26, 16, 25, 24]])"
      ]
     },
     "execution_count": 96,
     "metadata": {},
     "output_type": "execute_result"
    }
   ],
   "source": [
    "# Generate dataset.\n",
    "X = np.random.randint(10,50,100).reshape(20,5)\n",
    "X"
   ]
  },
  {
   "cell_type": "code",
   "execution_count": 97,
   "metadata": {},
   "outputs": [
    {
     "data": {
      "text/plain": [
       "<matplotlib.axes._subplots.AxesSubplot at 0x1db72b82310>"
      ]
     },
     "execution_count": 97,
     "metadata": {},
     "output_type": "execute_result"
    },
    {
     "data": {
      "image/png": "[encoded data removed]",
      "text/plain": [
       "<Figure size 432x288 with 1 Axes>"
      ]
     },
     "metadata": {
      "needs_background": "light"
     },
     "output_type": "display_data"
    }
   ],
   "source": [
    "sns.scatterplot(data=X)"
   ]
  },
  {
   "cell_type": "code",
   "execution_count": 98,
   "metadata": {},
   "outputs": [
    {
     "data": {
      "text/plain": [
       "array([[ -9.95,   9.4 , -21.3 , -11.9 , -14.  ],\n",
       "       [  8.05,  -7.6 ,   7.7 ,  -3.9 , -15.  ],\n",
       "       [ 15.05,  10.4 ,   2.7 ,   4.1 , -17.  ],\n",
       "       [  9.05,  15.4 , -14.3 ,  10.1 ,  20.  ],\n",
       "       [ 19.05, -13.6 ,  -3.3 ,  -2.9 ,  15.  ],\n",
       "       [-17.95,  -3.6 ,   0.7 ,   7.1 ,  18.  ],\n",
       "       [ -3.95,  14.4 ,  -9.3 ,   4.1 ,  -4.  ],\n",
       "       [ -6.95,   9.4 ,   4.7 ,  10.1 ,  -5.  ],\n",
       "       [ -4.95,  -5.6 ,   8.7 ,   7.1 ,  -8.  ],\n",
       "       [ 17.05, -16.6 ,   2.7 ,   2.1 ,  13.  ],\n",
       "       [-11.95,   0.4 ,  14.7 ,   3.1 ,  -1.  ],\n",
       "       [  7.05, -15.6 , -11.3 ,  10.1 ,   0.  ],\n",
       "       [ 13.05,  12.4 ,  11.7 ,   9.1 , -19.  ],\n",
       "       [ 12.05,   0.4 ,  -5.3 , -17.9 ,  11.  ],\n",
       "       [  0.05,  14.4 ,   2.7 , -10.9 ,  14.  ],\n",
       "       [-11.95,  -5.6 ,  11.7 ,  12.1 ,  -8.  ],\n",
       "       [-18.95,  -8.6 ,  15.7 ,  12.1 ,  -7.  ],\n",
       "       [ -9.95, -12.6 , -19.3 , -17.9 ,  14.  ],\n",
       "       [ -9.95,   8.4 ,  15.7 , -19.9 ,  -2.  ],\n",
       "       [  6.05,  -5.6 , -15.3 ,  -5.9 ,  -5.  ]])"
      ]
     },
     "execution_count": 98,
     "metadata": {},
     "output_type": "execute_result"
    }
   ],
   "source": [
    "# mean Centering the data  \n",
    "X_meaned = X - np.mean(X , axis=0)\n",
    "X_meaned"
   ]
  },
  {
   "cell_type": "markdown",
   "metadata": {},
   "source": [
    "##### Calculate the Covariance Matrix"
   ]
  },
  {
   "cell_type": "code",
   "execution_count": 99,
   "metadata": {},
   "outputs": [
    {
     "data": {
      "text/plain": [
       "array([[146.36578947,  -7.38947368, -28.61578947,  -6.58421053,\n",
       "         10.21052632],\n",
       "       [ -7.38947368, 119.09473684,   1.70526316,  -4.14736842,\n",
       "        -27.42105263],\n",
       "       [-28.61578947,   1.70526316, 141.06315789,  38.92631579,\n",
       "        -47.        ],\n",
       "       [ -6.58421053,  -4.14736842,  38.92631579, 115.04210526,\n",
       "        -28.57894737],\n",
       "       [ 10.21052632, -27.42105263, -47.        , -28.57894737,\n",
       "        155.26315789]])"
      ]
     },
     "execution_count": 99,
     "metadata": {},
     "output_type": "execute_result"
    }
   ],
   "source": [
    "# calculating the covariance matrix of the mean-centered data.\n",
    "cov_mat = np.cov(X_meaned , rowvar=False) # set rowvar to False to get the covariance matrix in the required dimensions\n",
    "cov_mat"
   ]
  },
  {
   "cell_type": "markdown",
   "metadata": {},
   "source": [
    "##### Compute the Eigenvalues and Eigenvectors"
   ]
  },
  {
   "cell_type": "code",
   "execution_count": 100,
   "metadata": {},
   "outputs": [
    {
     "name": "stdout",
     "output_type": "stream",
     "text": [
      "[ 83.37170872  88.96443343 132.00956814 142.36136711 230.12186997]\n",
      "-----\n",
      "[[-0.24183737  0.09279199  0.33574553  0.84658316 -0.32167719]\n",
      " [-0.15431615  0.59417238 -0.73099235  0.24509419  0.16948374]\n",
      " [-0.71972303  0.09566192  0.32679815 -0.12039499  0.59292122]\n",
      " [ 0.57294091  0.57451604  0.45138697  0.06088427  0.36635085]\n",
      " [-0.26728017  0.54692682  0.20585894 -0.45279569 -0.61808618]]\n"
     ]
    }
   ],
   "source": [
    "# Calculating Eigenvalues and Eigenvectors of the covariance matrix\n",
    "eigen_values , eigen_vectors = np.linalg.eigh(cov_mat)\n",
    "print(eigen_values)\n",
    "print('-----')\n",
    "print(eigen_vectors)"
   ]
  },
  {
   "cell_type": "markdown",
   "metadata": {},
   "source": [
    "##### Sort Eigenvalues in descending order"
   ]
  },
  {
   "cell_type": "code",
   "execution_count": 101,
   "metadata": {},
   "outputs": [
    {
     "data": {
      "text/plain": [
       "array([4, 3, 2, 1, 0], dtype=int64)"
      ]
     },
     "execution_count": 101,
     "metadata": {},
     "output_type": "execute_result"
    }
   ],
   "source": [
    "# sort the eigenvalues in descending order\n",
    "sorted_index = np.argsort(eigen_values)[::-1]\n",
    "sorted_index"
   ]
  },
  {
   "cell_type": "code",
   "execution_count": 102,
   "metadata": {},
   "outputs": [
    {
     "data": {
      "text/plain": [
       "array([230.12186997, 142.36136711, 132.00956814,  88.96443343,\n",
       "        83.37170872])"
      ]
     },
     "execution_count": 102,
     "metadata": {},
     "output_type": "execute_result"
    }
   ],
   "source": [
    "sorted_eigenvalue = eigen_values[sorted_index]\n",
    "sorted_eigenvalue"
   ]
  },
  {
   "cell_type": "code",
   "execution_count": 103,
   "metadata": {},
   "outputs": [
    {
     "data": {
      "text/plain": [
       "array([[-0.32167719,  0.84658316,  0.33574553,  0.09279199, -0.24183737],\n",
       "       [ 0.16948374,  0.24509419, -0.73099235,  0.59417238, -0.15431615],\n",
       "       [ 0.59292122, -0.12039499,  0.32679815,  0.09566192, -0.71972303],\n",
       "       [ 0.36635085,  0.06088427,  0.45138697,  0.57451604,  0.57294091],\n",
       "       [-0.61808618, -0.45279569,  0.20585894,  0.54692682, -0.26728017]])"
      ]
     },
     "execution_count": 103,
     "metadata": {},
     "output_type": "execute_result"
    }
   ],
   "source": [
    "# corresponding eigenvectors\n",
    "sorted_eigenvectors = eigen_vectors[:,sorted_index]\n",
    "sorted_eigenvectors"
   ]
  },
  {
   "cell_type": "markdown",
   "metadata": {},
   "source": [
    "##### Select a subset from the rearranged Eigenvalue matrix"
   ]
  },
  {
   "cell_type": "code",
   "execution_count": 104,
   "metadata": {},
   "outputs": [
    {
     "data": {
      "text/plain": [
       "array([[-0.32167719,  0.84658316],\n",
       "       [ 0.16948374,  0.24509419],\n",
       "       [ 0.59292122, -0.12039499],\n",
       "       [ 0.36635085,  0.06088427],\n",
       "       [-0.61808618, -0.45279569]])"
      ]
     },
     "execution_count": 104,
     "metadata": {},
     "output_type": "execute_result"
    }
   ],
   "source": [
    "# select the first n eigenvectors, n is desired dimension of our final reduced data.\n",
    "n_components = 2 \n",
    "eigenvector_subset = sorted_eigenvectors[:, 0:n_components]\n",
    "eigenvector_subset"
   ]
  },
  {
   "cell_type": "markdown",
   "metadata": {},
   "source": [
    "##### Transform the data "
   ]
  },
  {
   "cell_type": "code",
   "execution_count": 105,
   "metadata": {},
   "outputs": [
    {
     "data": {
      "text/plain": [
       "array([[ -3.54175553,   2.05941301],\n",
       "       [  8.53043994,  10.57972397],\n",
       "       [ 10.53177993,  22.91214194],\n",
       "       [-17.44148245,   4.71669372],\n",
       "       [-20.72327951,   6.22293207],\n",
       "       [ -2.94545112, -23.88082751],\n",
       "       [  2.17140656,   3.36583443],\n",
       "       [ 13.40610787,  -1.26681454],\n",
       "       [ 13.34738829,  -2.55590669],\n",
       "       [-13.96292238,   4.28212597],\n",
       "       [ 14.38155175, -11.14690055],\n",
       "       [ -7.91163672,   4.12033645],\n",
       "       [ 19.91831942,  21.83562181],\n",
       "       [-20.30752737,   4.86687728],\n",
       "       [ -8.62106151,  -3.75615919],\n",
       "       [ 19.20964657,  -8.53875248],\n",
       "       [ 22.70653442, -16.13449283],\n",
       "       [-25.58907338, -16.61703402],\n",
       "       [  7.87900505,  -8.56091815],\n",
       "       [-11.03798981,   7.4961053 ]])"
      ]
     },
     "execution_count": 105,
     "metadata": {},
     "output_type": "execute_result"
    }
   ],
   "source": [
    "X_reduced = np.dot(eigenvector_subset.transpose(),X_meaned.transpose()).transpose()\n",
    "X_reduced"
   ]
  },
  {
   "cell_type": "markdown",
   "metadata": {},
   "source": [
    "The final dimensions of X_reduced will be (20, 2) and originally the data was of higher dimensions (20,5)."
   ]
  },
  {
   "cell_type": "code",
   "execution_count": 106,
   "metadata": {},
   "outputs": [],
   "source": [
    "def PCA(X, n_components):\n",
    "     \n",
    "    #Step-1\n",
    "    X_meaned = X - np.mean(X , axis=0)\n",
    "     \n",
    "    #Step-2\n",
    "    cov_mat = np.cov(X_meaned , rowvar=False)\n",
    "     \n",
    "    #Step-3\n",
    "    eigen_values, eigen_vectors = np.linalg.eigh(cov_mat)\n",
    "     \n",
    "    #Step-4\n",
    "    sorted_index = np.argsort(eigen_values)[::-1]\n",
    "    sorted_eigenvalue = eigen_values[sorted_index]\n",
    "    sorted_eigenvectors = eigen_vectors[:,sorted_index]\n",
    "     \n",
    "    #Step-5\n",
    "    eigenvector_subset = sorted_eigenvectors[:, 0:n_components]\n",
    "     \n",
    "    #Step-6\n",
    "    X_reduced = np.dot(eigenvector_subset.transpose(), X_meaned.transpose()).transpose()\n",
    "     \n",
    "    return X_reduced"
   ]
  },
  {
   "cell_type": "code",
   "execution_count": 107,
   "metadata": {},
   "outputs": [
    {
     "data": {
      "text/plain": [
       "array([[ -3.54175553,   2.05941301],\n",
       "       [  8.53043994,  10.57972397],\n",
       "       [ 10.53177993,  22.91214194],\n",
       "       [-17.44148245,   4.71669372],\n",
       "       [-20.72327951,   6.22293207],\n",
       "       [ -2.94545112, -23.88082751],\n",
       "       [  2.17140656,   3.36583443],\n",
       "       [ 13.40610787,  -1.26681454],\n",
       "       [ 13.34738829,  -2.55590669],\n",
       "       [-13.96292238,   4.28212597],\n",
       "       [ 14.38155175, -11.14690055],\n",
       "       [ -7.91163672,   4.12033645],\n",
       "       [ 19.91831942,  21.83562181],\n",
       "       [-20.30752737,   4.86687728],\n",
       "       [ -8.62106151,  -3.75615919],\n",
       "       [ 19.20964657,  -8.53875248],\n",
       "       [ 22.70653442, -16.13449283],\n",
       "       [-25.58907338, -16.61703402],\n",
       "       [  7.87900505,  -8.56091815],\n",
       "       [-11.03798981,   7.4961053 ]])"
      ]
     },
     "execution_count": 107,
     "metadata": {},
     "output_type": "execute_result"
    }
   ],
   "source": [
    "mat_reduced = PCA(X, 2)\n",
    "mat_reduced"
   ]
  },
  {
   "cell_type": "code",
   "execution_count": 108,
   "metadata": {},
   "outputs": [
    {
     "data": {
      "text/html": [
       "<div>\n",
       "<style scoped>\n",
       "    .dataframe tbody tr th:only-of-type {\n",
       "        vertical-align: middle;\n",
       "    }\n",
       "\n",
       "    .dataframe tbody tr th {\n",
       "        vertical-align: top;\n",
       "    }\n",
       "\n",
       "    .dataframe thead th {\n",
       "        text-align: right;\n",
       "    }\n",
       "</style>\n",
       "<table border=\"1\" class=\"dataframe\">\n",
       "  <thead>\n",
       "    <tr style=\"text-align: right;\">\n",
       "      <th></th>\n",
       "      <th>PC1</th>\n",
       "      <th>PC2</th>\n",
       "    </tr>\n",
       "  </thead>\n",
       "  <tbody>\n",
       "    <tr>\n",
       "      <th>0</th>\n",
       "      <td>-3.541756</td>\n",
       "      <td>2.059413</td>\n",
       "    </tr>\n",
       "    <tr>\n",
       "      <th>1</th>\n",
       "      <td>8.530440</td>\n",
       "      <td>10.579724</td>\n",
       "    </tr>\n",
       "    <tr>\n",
       "      <th>2</th>\n",
       "      <td>10.531780</td>\n",
       "      <td>22.912142</td>\n",
       "    </tr>\n",
       "    <tr>\n",
       "      <th>3</th>\n",
       "      <td>-17.441482</td>\n",
       "      <td>4.716694</td>\n",
       "    </tr>\n",
       "    <tr>\n",
       "      <th>4</th>\n",
       "      <td>-20.723280</td>\n",
       "      <td>6.222932</td>\n",
       "    </tr>\n",
       "  </tbody>\n",
       "</table>\n",
       "</div>"
      ],
      "text/plain": [
       "         PC1        PC2\n",
       "0  -3.541756   2.059413\n",
       "1   8.530440  10.579724\n",
       "2  10.531780  22.912142\n",
       "3 -17.441482   4.716694\n",
       "4 -20.723280   6.222932"
      ]
     },
     "execution_count": 108,
     "metadata": {},
     "output_type": "execute_result"
    }
   ],
   "source": [
    "# Creating a Pandas DataFrame of reduced Dataset\n",
    "reduced_df = pd.DataFrame(mat_reduced , columns = ['PC1','PC2'])\n",
    "reduced_df.head()"
   ]
  },
  {
   "cell_type": "code",
   "execution_count": 110,
   "metadata": {},
   "outputs": [
    {
     "data": {
      "text/plain": [
       "<matplotlib.axes._subplots.AxesSubplot at 0x1db73c10460>"
      ]
     },
     "execution_count": 110,
     "metadata": {},
     "output_type": "execute_result"
    },
    {
     "data": {
      "image/png": "[encoded data removed]",
      "text/plain": [
       "<Figure size 432x432 with 1 Axes>"
      ]
     },
     "metadata": {
      "needs_background": "light"
     },
     "output_type": "display_data"
    }
   ],
   "source": [
    "plt.figure(figsize = (6,6))\n",
    "sns.scatterplot(data=reduced_df, x='PC1', y='PC2', s = 60)"
   ]
  },
  {
   "cell_type": "markdown",
   "metadata": {},
   "source": [
    "### 2. Implement PCA algorithm to reduce dimension (2D) of iris dataset (https://archive.ics.uci.edu/ml/datasets/iris), then visualize  the result."
   ]
  },
  {
   "cell_type": "code",
   "execution_count": 111,
   "metadata": {},
   "outputs": [
    {
     "data": {
      "text/html": [
       "<div>\n",
       "<style scoped>\n",
       "    .dataframe tbody tr th:only-of-type {\n",
       "        vertical-align: middle;\n",
       "    }\n",
       "\n",
       "    .dataframe tbody tr th {\n",
       "        vertical-align: top;\n",
       "    }\n",
       "\n",
       "    .dataframe thead th {\n",
       "        text-align: right;\n",
       "    }\n",
       "</style>\n",
       "<table border=\"1\" class=\"dataframe\">\n",
       "  <thead>\n",
       "    <tr style=\"text-align: right;\">\n",
       "      <th></th>\n",
       "      <th>sepal length</th>\n",
       "      <th>sepal width</th>\n",
       "      <th>petal length</th>\n",
       "      <th>petal width</th>\n",
       "      <th>target</th>\n",
       "    </tr>\n",
       "  </thead>\n",
       "  <tbody>\n",
       "    <tr>\n",
       "      <th>0</th>\n",
       "      <td>5.1</td>\n",
       "      <td>3.5</td>\n",
       "      <td>1.4</td>\n",
       "      <td>0.2</td>\n",
       "      <td>Iris-setosa</td>\n",
       "    </tr>\n",
       "    <tr>\n",
       "      <th>1</th>\n",
       "      <td>4.9</td>\n",
       "      <td>3.0</td>\n",
       "      <td>1.4</td>\n",
       "      <td>0.2</td>\n",
       "      <td>Iris-setosa</td>\n",
       "    </tr>\n",
       "    <tr>\n",
       "      <th>2</th>\n",
       "      <td>4.7</td>\n",
       "      <td>3.2</td>\n",
       "      <td>1.3</td>\n",
       "      <td>0.2</td>\n",
       "      <td>Iris-setosa</td>\n",
       "    </tr>\n",
       "    <tr>\n",
       "      <th>3</th>\n",
       "      <td>4.6</td>\n",
       "      <td>3.1</td>\n",
       "      <td>1.5</td>\n",
       "      <td>0.2</td>\n",
       "      <td>Iris-setosa</td>\n",
       "    </tr>\n",
       "    <tr>\n",
       "      <th>4</th>\n",
       "      <td>5.0</td>\n",
       "      <td>3.6</td>\n",
       "      <td>1.4</td>\n",
       "      <td>0.2</td>\n",
       "      <td>Iris-setosa</td>\n",
       "    </tr>\n",
       "  </tbody>\n",
       "</table>\n",
       "</div>"
      ],
      "text/plain": [
       "   sepal length  sepal width  petal length  petal width       target\n",
       "0           5.1          3.5           1.4          0.2  Iris-setosa\n",
       "1           4.9          3.0           1.4          0.2  Iris-setosa\n",
       "2           4.7          3.2           1.3          0.2  Iris-setosa\n",
       "3           4.6          3.1           1.5          0.2  Iris-setosa\n",
       "4           5.0          3.6           1.4          0.2  Iris-setosa"
      ]
     },
     "execution_count": 111,
     "metadata": {},
     "output_type": "execute_result"
    }
   ],
   "source": [
    "# Read the IRIS dataset\n",
    "url = \"https://archive.ics.uci.edu/ml/machine-learning-databases/iris/iris.data\"\n",
    "data = pd.read_csv(url, names=['sepal length','sepal width','petal length','petal width','target'])\n",
    "data.head()"
   ]
  },
  {
   "cell_type": "code",
   "execution_count": 112,
   "metadata": {},
   "outputs": [],
   "source": [
    "# prepare the data\n",
    "x = data.iloc[:, 0:4]\n",
    " \n",
    "# prepare the target\n",
    "target = data.iloc[:, 4]"
   ]
  },
  {
   "cell_type": "code",
   "execution_count": 113,
   "metadata": {},
   "outputs": [],
   "source": [
    "# Reduce orginal data from 5 components to 2 components\n",
    "mat_reduced = PCA(x, 2)"
   ]
  },
  {
   "cell_type": "code",
   "execution_count": 114,
   "metadata": {},
   "outputs": [],
   "source": [
    "# Creating a dataFrame of reduced dataset\n",
    "iris_reduced = pd.DataFrame(mat_reduced, columns=['PC1','PC2'])"
   ]
  },
  {
   "cell_type": "code",
   "execution_count": 115,
   "metadata": {},
   "outputs": [],
   "source": [
    "# Concat it with target variable to create a complete Dataset\n",
    "iris_reduced = pd.concat([iris_reduced, pd.DataFrame(target)], axis=1)"
   ]
  },
  {
   "cell_type": "code",
   "execution_count": 116,
   "metadata": {},
   "outputs": [
    {
     "data": {
      "text/plain": [
       "<matplotlib.axes._subplots.AxesSubplot at 0x1db73c678b0>"
      ]
     },
     "execution_count": 116,
     "metadata": {},
     "output_type": "execute_result"
    },
    {
     "data": {
      "image/png": "[encoded data removed]",
      "text/plain": [
       "<Figure size 504x504 with 1 Axes>"
      ]
     },
     "metadata": {
      "needs_background": "light"
     },
     "output_type": "display_data"
    }
   ],
   "source": [
    "plt.figure(figsize = (7,7))\n",
    "sns.scatterplot(data = iris_reduced, x='PC1', y='PC2', hue='target')"
   ]
  },
  {
   "cell_type": "markdown",
   "metadata": {},
   "source": [
    "### 3. Use PCA in sklearn to iris dataset and compare the result with the question 2."
   ]
  },
  {
   "cell_type": "code",
   "execution_count": 131,
   "metadata": {},
   "outputs": [],
   "source": [
    "from sklearn.decomposition import PCA"
   ]
  },
  {
   "cell_type": "code",
   "execution_count": 156,
   "metadata": {},
   "outputs": [],
   "source": [
    "pca = PCA(n_components=2)\n",
    "principalComponents = pca.fit_transform(x)\n",
    "principal_df = pd.DataFrame(data = principalComponents, columns = ['principal component 1', 'principal component 2'])"
   ]
  },
  {
   "cell_type": "code",
   "execution_count": 157,
   "metadata": {},
   "outputs": [],
   "source": [
    "final_df = pd.concat([principal_df, data[['target']]], axis = 1)"
   ]
  },
  {
   "cell_type": "code",
   "execution_count": 158,
   "metadata": {},
   "outputs": [
    {
     "data": {
      "text/plain": [
       "array([25.08986398,  6.00785254])"
      ]
     },
     "execution_count": 158,
     "metadata": {},
     "output_type": "execute_result"
    }
   ],
   "source": [
    "# eigenvalues\n",
    "pca.singular_values_"
   ]
  },
  {
   "cell_type": "code",
   "execution_count": 163,
   "metadata": {},
   "outputs": [
    {
     "data": {
      "image/png": "[encoded data removed]",
      "text/plain": [
       "<Figure size 504x504 with 1 Axes>"
      ]
     },
     "metadata": {
      "needs_background": "light"
     },
     "output_type": "display_data"
    }
   ],
   "source": [
    "fig = plt.figure(figsize = (7,7))\n",
    "ax = fig.add_subplot(1,1,1) \n",
    "ax.set_xlabel('PC1', fontsize = 12)\n",
    "ax.set_ylabel('PC2', fontsize = 12)\n",
    "ax.set_title('2 components PCA', fontsize = 14)\n",
    "targets = ['Iris-setosa', 'Iris-versicolor', 'Iris-virginica']\n",
    "colors = ['r', 'y', 'g']\n",
    "for target, color in zip(targets,colors):\n",
    "    indicesToKeep = final_df['target'] == target\n",
    "    ax.scatter(final_df.loc[indicesToKeep, 'principal component 1']\n",
    "               , finalDf.loc[indicesToKeep, 'principal component 2']\n",
    "               , c = color, s = 22)\n",
    "ax.legend(targets)\n",
    "ax.grid()"
   ]
  },
  {
   "cell_type": "code",
   "execution_count": null,
   "metadata": {},
   "outputs": [],
   "source": []
  },
  {
   "cell_type": "code",
   "execution_count": null,
   "metadata": {},
   "outputs": [],
   "source": []
  },
  {
   "cell_type": "code",
   "execution_count": null,
   "metadata": {},
   "outputs": [],
   "source": []
  },
  {
   "cell_type": "code",
   "execution_count": null,
   "metadata": {},
   "outputs": [],
   "source": []
  },
  {
   "cell_type": "code",
   "execution_count": null,
   "metadata": {},
   "outputs": [],
   "source": []
  },
  {
   "cell_type": "code",
   "execution_count": null,
   "metadata": {},
   "outputs": [],
   "source": []
  },
  {
   "cell_type": "code",
   "execution_count": null,
   "metadata": {},
   "outputs": [],
   "source": []
  },
  {
   "cell_type": "code",
   "execution_count": null,
   "metadata": {},
   "outputs": [],
   "source": []
  },
  {
   "cell_type": "code",
   "execution_count": null,
   "metadata": {},
   "outputs": [],
   "source": []
  }
 ],
 "metadata": {
  "kernelspec": {
   "display_name": "Python 3",
   "language": "python",
   "name": "python3"
  },
  "language_info": {
   "codemirror_mode": {
    "name": "ipython",
    "version": 3
   },
   "file_extension": ".py",
   "mimetype": "text/x-python",
   "name": "python",
   "nbconvert_exporter": "python",
   "pygments_lexer": "ipython3",
   "version": "3.8.3"
  }
 },
 "nbformat": 4,
 "nbformat_minor": 4
}
